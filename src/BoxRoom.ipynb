{
 "cells": [
  {
   "cell_type": "code",
   "execution_count": 41,
   "metadata": {},
   "outputs": [
    {
     "name": "stdout",
     "output_type": "stream",
     "text": [
      "The autoreload extension is already loaded. To reload it, use:\n",
      "  %reload_ext autoreload\n"
     ]
    }
   ],
   "source": [
    "%load_ext autoreload\n",
    "%autoreload 2"
   ]
  },
  {
   "cell_type": "code",
   "execution_count": 42,
   "metadata": {},
   "outputs": [],
   "source": [
    "import import_ipynb\n",
    "import random\n",
    "from Box import Box"
   ]
  },
  {
   "cell_type": "code",
   "execution_count": 43,
   "metadata": {},
   "outputs": [],
   "source": [
    "class BoxRoom:\n",
    "    def __init__(self, num_boxes):\n",
    "        self.num_boxes = num_boxes\n",
    "        self.Boxes = []\n",
    "        \n",
    "        for i in range(self.num_boxes):\n",
    "            self.Boxes.append(Box(i+1))\n",
    "            \n",
    "        random.shuffle(self.Boxes)\n",
    "        \n",
    "    def print_list(self):\n",
    "        for i in range(self.num_boxes):\n",
    "            print(self.Boxes[i].number)\n",
    "            \n",
    "    def exploreBoxRoom(self, p) -> bool:\n",
    "        check_box = p.id\n",
    "        \n",
    "        for i in range(self.num_boxes/2):\n",
    "            if self.Boxes[check_box].number == p.id:\n",
    "                return True\n",
    "            check_box = self.Boxes[check_box].number\n",
    "            \n",
    "        return False\n"
   ]
  },
  {
   "cell_type": "code",
   "execution_count": null,
   "metadata": {},
   "outputs": [],
   "source": []
  }
 ],
 "metadata": {
  "kernelspec": {
   "display_name": "Python 3.6.5 64-bit",
   "language": "python",
   "name": "python3"
  },
  "language_info": {
   "codemirror_mode": {
    "name": "ipython",
    "version": 3
   },
   "file_extension": ".py",
   "mimetype": "text/x-python",
   "name": "python",
   "nbconvert_exporter": "python",
   "pygments_lexer": "ipython3",
   "version": "3.6.5"
  },
  "orig_nbformat": 4,
  "vscode": {
   "interpreter": {
    "hash": "300ff9eeb4fb165bfcd6279e0df59dfa92d454c57b4ec725c67e10f19891a3d5"
   }
  }
 },
 "nbformat": 4,
 "nbformat_minor": 2
}
