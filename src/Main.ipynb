{
 "cells": [
  {
   "cell_type": "code",
   "execution_count": 40,
   "metadata": {},
   "outputs": [],
   "source": [
    "import importlib"
   ]
  },
  {
   "cell_type": "code",
   "execution_count": 46,
   "metadata": {},
   "outputs": [],
   "source": [
    "import BoxRoom\n",
    "importlib.reload(BoxRoom)\n",
    "from BoxRoom import BoxRoom"
   ]
  },
  {
   "cell_type": "code",
   "execution_count": 51,
   "metadata": {},
   "outputs": [],
   "source": [
    "def main():\n",
    "    box_num = 100\n",
    "    count_success = 0\n",
    "    for i in range(1000):\n",
    "        success = True\n",
    "        Room = BoxRoom(box_num)\n",
    "        \n",
    "        for i in range(box_num):\n",
    "            success &= Room.exploreBoxRoom(i)\n",
    "            \n",
    "        count_success += success\n",
    "        \n",
    "    print(count_success)          "
   ]
  },
  {
   "cell_type": "code",
   "execution_count": 52,
   "metadata": {},
   "outputs": [
    {
     "name": "stdout",
     "output_type": "stream",
     "text": [
      "315\n"
     ]
    }
   ],
   "source": [
    "if __name__ == \"__main__\":\n",
    "    main()"
   ]
  }
 ],
 "metadata": {
  "kernelspec": {
   "display_name": "Python 3.6.5 64-bit",
   "language": "python",
   "name": "python3"
  },
  "language_info": {
   "codemirror_mode": {
    "name": "ipython",
    "version": 3
   },
   "file_extension": ".py",
   "mimetype": "text/x-python",
   "name": "python",
   "nbconvert_exporter": "python",
   "pygments_lexer": "ipython3",
   "version": "3.6.5"
  },
  "orig_nbformat": 4,
  "vscode": {
   "interpreter": {
    "hash": "300ff9eeb4fb165bfcd6279e0df59dfa92d454c57b4ec725c67e10f19891a3d5"
   }
  }
 },
 "nbformat": 4,
 "nbformat_minor": 2
}
